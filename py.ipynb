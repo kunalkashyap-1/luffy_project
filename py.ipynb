{
 "cells": [
  {
   "cell_type": "code",
   "execution_count": 2,
   "metadata": {},
   "outputs": [
    {
     "name": "stdout",
     "output_type": "stream",
     "text": [
      "Running on local URL:  http://127.0.0.1:7861/\n",
      "Running on public URL: https://11346.gradio.app\n",
      "\n",
      "This share link expires in 72 hours. For free permanent hosting, check out Spaces: https://huggingface.co/spaces\n"
     ]
    },
    {
     "data": {
      "text/html": [
       "<div><iframe src=\"https://11346.gradio.app\" width=\"900\" height=\"500\" allow=\"autoplay; camera; microphone;\" frameborder=\"0\" allowfullscreen></iframe></div>"
      ],
      "text/plain": [
       "<IPython.core.display.HTML object>"
      ]
     },
     "metadata": {},
     "output_type": "display_data"
    },
    {
     "data": {
      "text/plain": [
       "(<gradio.routes.App at 0x1521f42b7f0>,\n",
       " 'http://127.0.0.1:7861/',\n",
       " 'https://11346.gradio.app')"
      ]
     },
     "execution_count": 2,
     "metadata": {},
     "output_type": "execute_result"
    }
   ],
   "source": [
    "import gradio as g\n",
    "import numpy as n\n",
    "import cv2 as c\n",
    "from tensorflow.keras import models\n",
    "model = models.load_model(\"8521.model/\")\n",
    "def classifer(img):\n",
    "    pic = c.resize(img,(32,32))\n",
    "    pre = model.predict(n.array([pic]))\n",
    "    label = [\"AIRPLANE\",\"CAR\",\"BIRD\",\"CAT\",\"DEER\",\"DOG\",\"FROG\",\"HORSE\",\"SHIP\",\"TRUCK\"]\n",
    "    index = n.argmax(pre)\n",
    "    return(label[index])\n",
    "   \n",
    "g.Interface(fn = classifer,inputs='image',outputs='text').launch(share=True) \n"
   ]
  }
 ],
 "metadata": {
  "kernelspec": {
   "display_name": "Python 3.10.6 64-bit",
   "language": "python",
   "name": "python3"
  },
  "language_info": {
   "codemirror_mode": {
    "name": "ipython",
    "version": 3
   },
   "file_extension": ".py",
   "mimetype": "text/x-python",
   "name": "python",
   "nbconvert_exporter": "python",
   "pygments_lexer": "ipython3",
   "version": "3.10.6"
  },
  "orig_nbformat": 4,
  "vscode": {
   "interpreter": {
    "hash": "9001facbd59ce50a2520eab0cdeb339166487b4759e4c6ae4e3ff15a1f14ed8c"
   }
  }
 },
 "nbformat": 4,
 "nbformat_minor": 2
}
